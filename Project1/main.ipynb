{
 "cells": [
  {
   "cell_type": "code",
   "execution_count": 11,
   "metadata": {},
   "outputs": [],
   "source": [
    "import matplotlib.pyplot as plt\n",
    "import os \n",
    "import pandas as pd"
   ]
  },
  {
   "cell_type": "code",
   "execution_count": 12,
   "metadata": {},
   "outputs": [],
   "source": [
    "df = pd.read_csv(os.path.join(\"data\", \"online_retail_II_preprocessed.csv\")) # read the csv file"
   ]
  },
  {
   "cell_type": "code",
   "execution_count": 13,
   "metadata": {},
   "outputs": [
    {
     "name": "stderr",
     "output_type": "stream",
     "text": [
      "/var/folders/vg/9frsl_4j0xd91tddcqtwkgpr0000gn/T/ipykernel_23039/2013441190.py:2: FutureWarning: The default value of numeric_only in DataFrameGroupBy.mean is deprecated. In a future version, numeric_only will default to False. Either specify numeric_only or select only columns which should be valid for the function.\n",
      "  rec = df.groupby(['Customer ID']).mean()['Recency'] # recency was calculated in preprocessing code\n",
      "/var/folders/vg/9frsl_4j0xd91tddcqtwkgpr0000gn/T/ipykernel_23039/2013441190.py:12: FutureWarning: The default value of numeric_only in DataFrameGroupBy.mean is deprecated. In a future version, numeric_only will default to False. Either specify numeric_only or select only columns which should be valid for the function.\n",
      "  mon =  df.groupby(['Customer ID']).mean()['Spending'] # monetary value average spending per order\n"
     ]
    }
   ],
   "source": [
    "### measure variables - recency, frequency, and monetary value\n",
    "rec = df.groupby(['Customer ID']).mean()['Recency'] # recency was calculated in preprocessing code \n",
    "'''\n",
    "### code for calculating recency - from preprocessing code ###\n",
    "# df_val is the dataset after dropping the nans or invalid (e.g. negative quantity) data\n",
    "present = dt.datetime(2012,1,1)\n",
    "df_val['Recency'] = (present - df_val.groupby(['Customer ID'])['InvoiceDate'].transform(max)).dt.days\n",
    "'''\n",
    "freq = df.groupby(['Customer ID']).count()['Invoice'] # frequency number of purchases since the first purchase \n",
    "# monetary value average spending per order\n",
    "df['Spending'] = df['Price']*df['Quantity']\n",
    "mon =  df.groupby(['Customer ID']).mean()['Spending'] # monetary value average spending per order"
   ]
  },
  {
   "cell_type": "code",
   "execution_count": 14,
   "metadata": {},
   "outputs": [],
   "source": [
    "\n",
    "### for each dimension, divide all customers into three groups evenly. \n",
    "seg = [1]*(len(rec)//3) + [2]*(len(rec)- len(rec)//3*2) + [3]*(len(rec)//3) # score: 1 for lowest, 2 for medium, 3 for highest\n",
    "rec = rec.sort_values(ascending=False).to_frame()\n",
    "freq = freq.sort_values().to_frame(\"Frequency\")\n",
    "mon = mon.sort_values().to_frame(\"MonetaryValue\")\n",
    "rec['Recency_score'] = seg\n",
    "freq['Freq_score'] = seg\n",
    "mon['MV_score'] = seg\n",
    "df['R_score'] = [1]*len(df.index)\n",
    "df['F_score'] = [1]*len(df.index)\n",
    "df['M_score'] = [1]*len(df.index)\n",
    "df.loc[df['Customer ID'].isin(rec[rec['Recency_score']==2].index),'R_score'] = 2\n",
    "df.loc[df['Customer ID'].isin(rec[rec['Recency_score']==3].index),'R_score'] = 3\n",
    "df.loc[df['Customer ID'].isin(freq[freq['Freq_score']==2].index),'F_score'] = 2\n",
    "df.loc[df['Customer ID'].isin(freq[freq['Freq_score']==3].index),'F_score'] = 3\n",
    "df.loc[df['Customer ID'].isin(mon[mon['MV_score']==2].index),'M_score'] = 2\n",
    "df.loc[df['Customer ID'].isin(mon[mon['MV_score']==3].index),'M_score'] = 3\n",
    "rfm = df.groupby(['R_score', 'F_score', 'M_score'])"
   ]
  },
  {
   "cell_type": "code",
   "execution_count": 15,
   "metadata": {},
   "outputs": [
    {
     "name": "stdout",
     "output_type": "stream",
     "text": [
      "R_score  F_score  M_score\n",
      "1        1        1          266\n",
      "                  2          359\n",
      "                  3          456\n",
      "         2        1          317\n",
      "                  2          225\n",
      "                  3          134\n",
      "         3        1          132\n",
      "                  2           43\n",
      "                  3           27\n",
      "2        1        1          105\n",
      "                  2          198\n",
      "                  3          297\n",
      "         2        1          188\n",
      "                  2          313\n",
      "                  3          241\n",
      "         3        1          271\n",
      "                  2          204\n",
      "                  3          143\n",
      "3        1        1           43\n",
      "                  2          103\n",
      "                  3          132\n",
      "         2        1          152\n",
      "                  2          206\n",
      "                  3          184\n",
      "         3        1          485\n",
      "                  2          309\n",
      "                  3          345\n",
      "Name: Customer ID, dtype: int64\n",
      "R_score  F_score  M_score\n",
      "1        1        1         4.53\n",
      "                  2         6.11\n",
      "                  3         7.76\n",
      "         2        1         5.39\n",
      "                  2         3.83\n",
      "                  3         2.28\n",
      "         3        1         2.25\n",
      "                  2         0.73\n",
      "                  3         0.46\n",
      "2        1        1         1.79\n",
      "                  2         3.37\n",
      "                  3         5.05\n",
      "         2        1         3.20\n",
      "                  2         5.32\n",
      "                  3         4.10\n",
      "         3        1         4.61\n",
      "                  2         3.47\n",
      "                  3         2.43\n",
      "3        1        1         0.73\n",
      "                  2         1.75\n",
      "                  3         2.25\n",
      "         2        1         2.59\n",
      "                  2         3.50\n",
      "                  3         3.13\n",
      "         3        1         8.25\n",
      "                  2         5.26\n",
      "                  3         5.87\n",
      "Name: Customer ID, dtype: float64\n"
     ]
    },
    {
     "data": {
      "text/plain": [
       "<Axes: xlabel='R_score,F_score,M_score'>"
      ]
     },
     "execution_count": 15,
     "metadata": {},
     "output_type": "execute_result"
    },
    {
     "data": {
      "image/png": "[encoded data removed]",
      "text/plain": [
       "<Figure size 640x480 with 1 Axes>"
      ]
     },
     "metadata": {},
     "output_type": "display_data"
    }
   ],
   "source": [
    "pd.options.display.float_format = '{:.2f}'.format\n",
    "print(rfm.nunique()['Customer ID']) \n",
    "print(rfm.nunique()['Customer ID']/rfm.nunique()['Customer ID'].sum()*100) # proportion \n",
    "%matplotlib inline\n",
    "rfm.nunique()['Customer ID'].plot.bar()"
   ]
  },
  {
   "cell_type": "code",
   "execution_count": 16,
   "metadata": {},
   "outputs": [
    {
     "name": "stdout",
     "output_type": "stream",
     "text": [
      "number of countries in each group\n",
      "R_score  F_score  M_score\n",
      "1        1        1           9\n",
      "                  2          14\n",
      "                  3          17\n",
      "         2        1           9\n",
      "                  2          15\n",
      "                  3          18\n",
      "         3        1           3\n",
      "                  2           3\n",
      "                  3           9\n",
      "2        1        1           4\n",
      "                  2           9\n",
      "                  3          16\n",
      "         2        1           3\n",
      "                  2          18\n",
      "                  3          20\n",
      "         3        1           4\n",
      "                  2          10\n",
      "                  3          18\n",
      "3        1        1           2\n",
      "                  2           7\n",
      "                  3          10\n",
      "         2        1           3\n",
      "                  2          10\n",
      "                  3          15\n",
      "         3        1           6\n",
      "                  2          11\n",
      "                  3          21\n",
      "Name: Country, dtype: int64\n",
      "most frequent countries of the customers in each group\n",
      "R_score  F_score  M_score   \n",
      "1        1        1        0    United Kingdom\n",
      "                  2        0    United Kingdom\n",
      "                  3        0    United Kingdom\n",
      "         2        1        0    United Kingdom\n",
      "                  2        0    United Kingdom\n",
      "                  3        0    United Kingdom\n",
      "         3        1        0    United Kingdom\n",
      "                  2        0    United Kingdom\n",
      "                  3        0    United Kingdom\n",
      "2        1        1        0    United Kingdom\n",
      "                  2        0    United Kingdom\n",
      "                  3        0    United Kingdom\n",
      "         2        1        0    United Kingdom\n",
      "                  2        0    United Kingdom\n",
      "                  3        0    United Kingdom\n",
      "         3        1        0    United Kingdom\n",
      "                  2        0    United Kingdom\n",
      "                  3        0    United Kingdom\n",
      "3        1        1        0    United Kingdom\n",
      "                  2        0    United Kingdom\n",
      "                  3        0    United Kingdom\n",
      "         2        1        0    United Kingdom\n",
      "                  2        0    United Kingdom\n",
      "                  3        0    United Kingdom\n",
      "         3        1        0    United Kingdom\n",
      "                  2        0    United Kingdom\n",
      "                  3        0    United Kingdom\n",
      "Name: Country, dtype: object\n"
     ]
    }
   ],
   "source": [
    "print(\"number of countries in each group\")\n",
    "print(rfm.nunique()['Country']) \n",
    "print(\"most frequent countries of the customers in each group\")\n",
    "tmp = df.groupby('Customer ID').max().get(['R_score', 'F_score', 'M_score', 'Country'])\n",
    "print(tmp.groupby(['R_score', 'F_score', 'M_score'])['Country'].apply(pd.Series.mode)) "
   ]
  },
  {
   "cell_type": "code",
   "execution_count": 17,
   "metadata": {},
   "outputs": [
    {
     "name": "stdout",
     "output_type": "stream",
     "text": [
      "which weekday were the purchases made most frequently?\n",
      "R_score  F_score  M_score   \n",
      "1        1        1        0      Tuesday\n",
      "                           1    Wednesday\n",
      "                  2        0     Thursday\n",
      "                  3        0      Tuesday\n",
      "                           1    Wednesday\n",
      "         2        1        0       Sunday\n",
      "                  2        0     Thursday\n",
      "                  3        0      Tuesday\n",
      "         3        1        0       Sunday\n",
      "                  2        0     Thursday\n",
      "                  3        0     Thursday\n",
      "                           1    Wednesday\n",
      "2        1        1        0     Thursday\n",
      "                  2        0     Thursday\n",
      "                  3        0     Thursday\n",
      "         2        1        0     Thursday\n",
      "                  2        0     Thursday\n",
      "                  3        0     Thursday\n",
      "         3        1        0       Sunday\n",
      "                  2        0     Thursday\n",
      "                  3        0     Thursday\n",
      "3        1        1        0      Tuesday\n",
      "                  2        0     Thursday\n",
      "                  3        0    Wednesday\n",
      "         2        1        0       Sunday\n",
      "                  2        0     Thursday\n",
      "                  3        0     Thursday\n",
      "         3        1        0     Thursday\n",
      "                  2        0     Thursday\n",
      "                  3        0     Thursday\n",
      "Name: Weekday, dtype: object\n"
     ]
    }
   ],
   "source": [
    "print(\"which weekday were the purchases made most frequently?\")\n",
    "tmp = df.groupby('Invoice').max().get(['R_score', 'F_score', 'M_score', 'Weekday'])\n",
    "print(tmp.groupby(['R_score', 'F_score', 'M_score'])['Weekday'].apply(pd.Series.mode))"
   ]
  },
  {
   "cell_type": "code",
   "execution_count": 18,
   "metadata": {},
   "outputs": [
    {
     "name": "stdout",
     "output_type": "stream",
     "text": [
      "contribution in aggrgated sales\n",
      "R_score  F_score  M_score\n",
      "1        1        1           44072.51\n",
      "                  2           91822.07\n",
      "                  3          297082.22\n",
      "         2        1          128164.14\n",
      "                  2          209068.87\n",
      "                  3          360259.20\n",
      "         3        1          190263.70\n",
      "                  2          176885.49\n",
      "                  3          274258.04\n",
      "2        1        1           18088.95\n",
      "                  2           58307.86\n",
      "                  3          320341.09\n",
      "         2        1          100644.51\n",
      "                  2          315284.89\n",
      "                  3          616486.64\n",
      "         3        1          625216.73\n",
      "                  2          721828.65\n",
      "                  3          959399.93\n",
      "3        1        1            8162.32\n",
      "                  2           30437.10\n",
      "                  3          291856.46\n",
      "         2        1           85234.31\n",
      "                  2          205836.75\n",
      "                  3          503807.05\n",
      "         3        1         1900280.51\n",
      "                  2         1543246.18\n",
      "                  3         7667092.99\n",
      "Name: Spending, dtype: float64\n",
      "R_score  F_score  M_score\n",
      "1        1        1          0.25\n",
      "                  2          0.52\n",
      "                  3          1.67\n",
      "         2        1          0.72\n",
      "                  2          1.18\n",
      "                  3          2.03\n",
      "         3        1          1.07\n",
      "                  2          1.00\n",
      "                  3          1.55\n",
      "2        1        1          0.10\n",
      "                  2          0.33\n",
      "                  3          1.81\n",
      "         2        1          0.57\n",
      "                  2          1.78\n",
      "                  3          3.47\n",
      "         3        1          3.52\n",
      "                  2          4.07\n",
      "                  3          5.41\n",
      "3        1        1          0.05\n",
      "                  2          0.17\n",
      "                  3          1.64\n",
      "         2        1          0.48\n",
      "                  2          1.16\n",
      "                  3          2.84\n",
      "         3        1         10.71\n",
      "                  2          8.70\n",
      "                  3         43.21\n",
      "Name: Spending, dtype: float64\n"
     ]
    },
    {
     "name": "stderr",
     "output_type": "stream",
     "text": [
      "/var/folders/vg/9frsl_4j0xd91tddcqtwkgpr0000gn/T/ipykernel_23039/2464572255.py:2: FutureWarning: The default value of numeric_only in DataFrameGroupBy.sum is deprecated. In a future version, numeric_only will default to False. Either specify numeric_only or select only columns which should be valid for the function.\n",
      "  contrib = rfm.sum()['Spending']\n"
     ]
    },
    {
     "data": {
      "text/plain": [
       "<Axes: xlabel='R_score,F_score,M_score'>"
      ]
     },
     "execution_count": 18,
     "metadata": {},
     "output_type": "execute_result"
    },
    {
     "data": {
      "image/png": "[encoded data removed]",
      "text/plain": [
       "<Figure size 640x480 with 1 Axes>"
      ]
     },
     "metadata": {},
     "output_type": "display_data"
    }
   ],
   "source": [
    "print(\"contribution in aggrgated sales\")\n",
    "contrib = rfm.sum()['Spending']\n",
    "print(contrib)\n",
    "print(contrib/contrib.sum()*100) # proportion\n",
    "contrib.plot.bar()"
   ]
  }
 ],
 "metadata": {
  "kernelspec": {
   "display_name": "Python 3",
   "language": "python",
   "name": "python3"
  },
  "language_info": {
   "codemirror_mode": {
    "name": "ipython",
    "version": 3
   },
   "file_extension": ".py",
   "mimetype": "text/x-python",
   "name": "python",
   "nbconvert_exporter": "python",
   "pygments_lexer": "ipython3",
   "version": "3.9.6"
  },
  "orig_nbformat": 4
 },
 "nbformat": 4,
 "nbformat_minor": 2
}
